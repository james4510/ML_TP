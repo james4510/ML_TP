{
 "cells": [
  {
   "cell_type": "code",
   "execution_count": 4,
   "id": "16322bf8-1b81-4a36-b0cb-846f67c3a0ff",
   "metadata": {},
   "outputs": [
    {
     "name": "stdout",
     "output_type": "stream",
     "text": [
      "Collecting scikit-surprise\n",
      "  Using cached scikit_surprise-1.1.4-cp312-cp312-win_amd64.whl\n",
      "Requirement already satisfied: joblib>=1.2.0 in c:\\users\\user\\anaconda3\\lib\\site-packages (from scikit-surprise) (1.4.2)\n",
      "Requirement already satisfied: numpy>=1.19.5 in c:\\users\\user\\anaconda3\\lib\\site-packages (from scikit-surprise) (1.26.4)\n",
      "Requirement already satisfied: scipy>=1.6.0 in c:\\users\\user\\anaconda3\\lib\\site-packages (from scikit-surprise) (1.13.1)\n",
      "Installing collected packages: scikit-surprise\n",
      "Successfully installed scikit-surprise-1.1.4\n"
     ]
    }
   ],
   "source": [
    "!pip install scikit-surprise"
   ]
  },
  {
   "cell_type": "code",
   "execution_count": 6,
   "id": "0f4c3cb3-50a3-453c-acec-e2495257d2cb",
   "metadata": {},
   "outputs": [],
   "source": [
    "from surprise import Dataset, Reader, SVD, KNNBasic, accuracy\n",
    "from surprise.model_selection import train_test_split\n",
    "import pandas as pd\n",
    "import numpy as np"
   ]
  },
  {
   "cell_type": "code",
   "execution_count": 10,
   "id": "19f9b652-3abc-4b13-bc11-795ce5b9a246",
   "metadata": {},
   "outputs": [
    {
     "data": {
      "text/html": [
       "<div>\n",
       "<style scoped>\n",
       "    .dataframe tbody tr th:only-of-type {\n",
       "        vertical-align: middle;\n",
       "    }\n",
       "\n",
       "    .dataframe tbody tr th {\n",
       "        vertical-align: top;\n",
       "    }\n",
       "\n",
       "    .dataframe thead th {\n",
       "        text-align: right;\n",
       "    }\n",
       "</style>\n",
       "<table border=\"1\" class=\"dataframe\">\n",
       "  <thead>\n",
       "    <tr style=\"text-align: right;\">\n",
       "      <th></th>\n",
       "      <th>User_ID</th>\n",
       "      <th>ISBN</th>\n",
       "      <th>Rating</th>\n",
       "      <th>Book-Title</th>\n",
       "      <th>Book-Author</th>\n",
       "      <th>Year-Of-Publication</th>\n",
       "      <th>Publisher</th>\n",
       "      <th>Location</th>\n",
       "      <th>Age</th>\n",
       "    </tr>\n",
       "  </thead>\n",
       "  <tbody>\n",
       "    <tr>\n",
       "      <th>0</th>\n",
       "      <td>276747</td>\n",
       "      <td>0060517794</td>\n",
       "      <td>5</td>\n",
       "      <td>little altars everywhere</td>\n",
       "      <td>rebecca wells</td>\n",
       "      <td>2003</td>\n",
       "      <td>harpertorch</td>\n",
       "      <td>iowa city, iowa, usa</td>\n",
       "      <td>25.0</td>\n",
       "    </tr>\n",
       "    <tr>\n",
       "      <th>1</th>\n",
       "      <td>276747</td>\n",
       "      <td>0671537458</td>\n",
       "      <td>5</td>\n",
       "      <td>waiting to exhale</td>\n",
       "      <td>terry mcmillan</td>\n",
       "      <td>1995</td>\n",
       "      <td>pocket</td>\n",
       "      <td>iowa city, iowa, usa</td>\n",
       "      <td>25.0</td>\n",
       "    </tr>\n",
       "    <tr>\n",
       "      <th>2</th>\n",
       "      <td>276822</td>\n",
       "      <td>0060096195</td>\n",
       "      <td>5</td>\n",
       "      <td>the boy next door</td>\n",
       "      <td>meggin cabot</td>\n",
       "      <td>2002</td>\n",
       "      <td>avon trade</td>\n",
       "      <td>calgary, alberta, canada</td>\n",
       "      <td>11.0</td>\n",
       "    </tr>\n",
       "    <tr>\n",
       "      <th>3</th>\n",
       "      <td>276822</td>\n",
       "      <td>0786817070</td>\n",
       "      <td>5</td>\n",
       "      <td>artemis fowl (artemis fowl, book 1)</td>\n",
       "      <td>eoin colfer</td>\n",
       "      <td>2002</td>\n",
       "      <td>miramax kids</td>\n",
       "      <td>calgary, alberta, canada</td>\n",
       "      <td>11.0</td>\n",
       "    </tr>\n",
       "    <tr>\n",
       "      <th>4</th>\n",
       "      <td>276847</td>\n",
       "      <td>3423071516</td>\n",
       "      <td>5</td>\n",
       "      <td>der kleine hobbit</td>\n",
       "      <td>j. r. r. tolkien</td>\n",
       "      <td>2002</td>\n",
       "      <td>distribooks</td>\n",
       "      <td>köln, nordrhein-westfalen, germany</td>\n",
       "      <td>27.0</td>\n",
       "    </tr>\n",
       "  </tbody>\n",
       "</table>\n",
       "</div>"
      ],
      "text/plain": [
       "   User_ID        ISBN  Rating                           Book-Title  \\\n",
       "0   276747  0060517794       5             little altars everywhere   \n",
       "1   276747  0671537458       5                    waiting to exhale   \n",
       "2   276822  0060096195       5                    the boy next door   \n",
       "3   276822  0786817070       5  artemis fowl (artemis fowl, book 1)   \n",
       "4   276847  3423071516       5                    der kleine hobbit   \n",
       "\n",
       "        Book-Author  Year-Of-Publication     Publisher  \\\n",
       "0     rebecca wells                 2003   harpertorch   \n",
       "1    terry mcmillan                 1995        pocket   \n",
       "2      meggin cabot                 2002    avon trade   \n",
       "3       eoin colfer                 2002  miramax kids   \n",
       "4  j. r. r. tolkien                 2002   distribooks   \n",
       "\n",
       "                             Location   Age  \n",
       "0                iowa city, iowa, usa  25.0  \n",
       "1                iowa city, iowa, usa  25.0  \n",
       "2            calgary, alberta, canada  11.0  \n",
       "3            calgary, alberta, canada  11.0  \n",
       "4  köln, nordrhein-westfalen, germany  27.0  "
      ]
     },
     "execution_count": 10,
     "metadata": {},
     "output_type": "execute_result"
    }
   ],
   "source": [
    "# Load the recommendation dataset\n",
    "recommendation_df = pd.read_csv('./recommendation_exclusive.csv')\n",
    "recommendation_df.head()"
   ]
  },
  {
   "cell_type": "code",
   "execution_count": 12,
   "id": "f8d08b99-fd03-42cf-b1a1-299db30aabaa",
   "metadata": {},
   "outputs": [
    {
     "name": "stdout",
     "output_type": "stream",
     "text": [
      "<class 'pandas.core.frame.DataFrame'>\n",
      "RangeIndex: 68889 entries, 0 to 68888\n",
      "Data columns (total 9 columns):\n",
      " #   Column               Non-Null Count  Dtype  \n",
      "---  ------               --------------  -----  \n",
      " 0   User_ID              68889 non-null  int64  \n",
      " 1   ISBN                 68889 non-null  object \n",
      " 2   Rating               68889 non-null  int64  \n",
      " 3   Book-Title           68889 non-null  object \n",
      " 4   Book-Author          68889 non-null  object \n",
      " 5   Year-Of-Publication  68889 non-null  int64  \n",
      " 6   Publisher            68889 non-null  object \n",
      " 7   Location             68889 non-null  object \n",
      " 8   Age                  68889 non-null  float64\n",
      "dtypes: float64(1), int64(3), object(5)\n",
      "memory usage: 4.7+ MB\n"
     ]
    }
   ],
   "source": [
    "recommendation_df.info()"
   ]
  },
  {
   "cell_type": "code",
   "execution_count": 14,
   "id": "ca268ad9-924a-4347-a54d-299bbe8d986c",
   "metadata": {},
   "outputs": [
    {
     "name": "stdout",
     "output_type": "stream",
     "text": [
      "\n",
      "Total Number of Users: 9875\n",
      "Total Number of Books: 3027\n",
      "\n"
     ]
    }
   ],
   "source": [
    "# Calculate the number of unique users and books\n",
    "num_users = recommendation_df['User_ID'].nunique()\n",
    "num_books = recommendation_df['ISBN'].nunique()\n",
    "\n",
    "print(f\"\\nTotal Number of Users: {num_users}\")\n",
    "print(f\"Total Number of Books: {num_books}\\n\")"
   ]
  },
  {
   "cell_type": "code",
   "execution_count": 16,
   "id": "0ef009c5-2c4c-4f2c-9979-75e5d3a76269",
   "metadata": {},
   "outputs": [],
   "source": [
    "# Load data into Surprise format\n",
    "reader = Reader(rating_scale=(recommendation_df['Rating'].min(), recommendation_df['Rating'].max()))\n",
    "data = Dataset.load_from_df(recommendation_df[['User_ID', 'ISBN', 'Rating']], reader)\n",
    "\n",
    "# Train-test split\n",
    "trainset, testset = train_test_split(data, test_size=0.2, random_state=42)"
   ]
  },
  {
   "cell_type": "code",
   "execution_count": null,
   "id": "4b246878-a2ee-409c-9d09-f5e17a69d106",
   "metadata": {},
   "outputs": [],
   "source": [
    "# 1. Train SVD Model with adjusted parameters\n",
    "svd = SVD(n_factors=20, lr_all=0.005, random_state=42)\n",
    "svd.fit(trainset)\n",
    "\n",
    "# 2. User-Based CF Model with adjusted k value and Pearson similarity\n",
    "user_based_cf = KNNBasic(sim_options={'name': 'pearson', 'user_based': True}, k=20)\n",
    "user_based_cf.fit(trainset)\n",
    "\n",
    "# 3. Item-Based CF Model with adjusted k value and Pearson similarity\n",
    "item_based_cf = KNNBasic(sim_options={'name': 'pearson', 'user_based': False}, k=20)\n",
    "item_based_cf.fit(trainset)"
   ]
  },
  {
   "cell_type": "code",
   "execution_count": null,
   "id": "8b337f3f-6f93-4785-bf16-b61c6f50f339",
   "metadata": {},
   "outputs": [],
   "source": [
    "# RMSE Evaluation for each model\n",
    "# SVD Model RMSE\n",
    "svd_predictions = svd.test(testset)\n",
    "svd_rmse = accuracy.rmse(svd_predictions)\n",
    "print(f\"SVD Model RMSE: {svd_rmse}\\n\")\n",
    "\n",
    "# User-Based Collaborative Filtering Model RMSE\n",
    "user_based_predictions = user_based_cf.test(testset)\n",
    "user_based_rmse = accuracy.rmse(user_based_predictions)\n",
    "print(f\"User-Based CF Model RMSE: {user_based_rmse}\\n\")\n",
    "\n",
    "# Item-Based Collaborative Filtering Model RMSE\n",
    "item_based_predictions = item_based_cf.test(testset)\n",
    "item_based_rmse = accuracy.rmse(item_based_predictions)\n",
    "print(f\"Item-Based CF Model RMSE: {item_based_rmse}\\n\")"
   ]
  },
  {
   "cell_type": "code",
   "execution_count": null,
   "id": "7f00e7a1-7a34-484e-a0a1-d5f34bad79ad",
   "metadata": {},
   "outputs": [],
   "source": [
    "# Function to find top 10 nearest neighbors for a specific user\n",
    "def get_top_neighbors(user_inner_id, num_neighbors=10):\n",
    "    # Get similarity matrix from the user-based collaborative filtering model\n",
    "    similarity_matrix = user_based_cf.sim\n",
    "    # Get similarities of the specific user with all other users\n",
    "    user_similarities = similarity_matrix[user_inner_id]\n",
    "    # Sort by similarity and get the top `num_neighbors` excluding the user itself\n",
    "    nearest_neighbors = np.argsort(user_similarities)[-num_neighbors-1:-1][::-1]\n",
    "    return nearest_neighbors"
   ]
  },
  {
   "cell_type": "code",
   "execution_count": null,
   "id": "7b4dc5d3-90d6-414a-9b3c-702da2b62ba0",
   "metadata": {},
   "outputs": [],
   "source": [
    "# Select a user ID to find their nearest neighbors\n",
    "sample_user_id = 99\n",
    "\n",
    "# Convert the raw user ID to an inner ID used by the model\n",
    "sample_user_inner_id = trainset.to_inner_uid(sample_user_id)\n",
    "\n",
    "# Get and print the top 10 nearest neighbors\n",
    "top_neighbors = get_top_neighbors(sample_user_inner_id, num_neighbors=10)\n",
    "print(f\"\\nTop 10 neighbors for User {sample_user_id}:\")\n",
    "for neighbor_inner_id in top_neighbors:\n",
    "    neighbor_raw_id = trainset.to_raw_uid(neighbor_inner_id)\n",
    "    print(f\"Neighbor User ID: {neighbor_raw_id}\")\n",
    "\n",
    "# Recommendation function\n",
    "def recommend_books(user_id, model, num_recommendations=5):\n",
    "    # Get books that the user has not rated\n",
    "    user_rated_books = recommendation_df[recommendation_df['User_ID'] == user_id]['ISBN'].tolist()\n",
    "    all_books = recommendation_df['ISBN'].unique()\n",
    "    books_to_predict = [isbn for isbn in all_books if isbn not in user_rated_books]\n",
    "\n",
    "    # Predict ratings for books the user hasn't rated yet\n",
    "    predictions = [model.predict(user_id, isbn) for isbn in books_to_predict]\n",
    "    predictions.sort(key=lambda x: x.est, reverse=True)\n",
    "\n",
    "    # Recommend top books\n",
    "    recommended_books = []\n",
    "    for pred in predictions[:num_recommendations]:\n",
    "        isbn = pred.iid\n",
    "        title = recommendation_df[recommendation_df['ISBN'] == isbn]['Book-Title'].values\n",
    "        if title.size > 0:\n",
    "            recommended_books.append((title[0], pred.est))\n",
    "\n",
    "    return recommended_books\n",
    "\n",
    "# Test the recommendation system for the specific user\n",
    "print(f\"\\nSVD Recommendations for User {sample_user_id}:\")\n",
    "svd_recommendations = recommend_books(sample_user_id, svd, num_recommendations=5)\n",
    "for title, predicted_rating in svd_recommendations:\n",
    "    print(f\"Title: {title}, Predicted Rating: {predicted_rating:.2f}\")\n",
    "\n",
    "print(f\"\\nUser-Based CF Recommendations for User {sample_user_id}:\")\n",
    "user_based_recommendations = recommend_books(sample_user_id, user_based_cf, num_recommendations=5)\n",
    "for title, predicted_rating in user_based_recommendations:\n",
    "    print(f\"Title: {title}, Predicted Rating: {predicted_rating:.2f}\")\n",
    "\n",
    "print(f\"\\nItem-Based CF Recommendations for User {sample_user_id}:\")\n",
    "item_based_recommendations = recommend_books(sample_user_id, item_based_cf, num_recommendations=5)\n",
    "for title, predicted_rating in item_based_recommendations:\n",
    "    print(f\"Title: {title}, Predicted Rating: {predicted_rating:.2f}\")\n"
   ]
  }
 ],
 "metadata": {
  "kernelspec": {
   "display_name": "Python 3 (ipykernel)",
   "language": "python",
   "name": "python3"
  },
  "language_info": {
   "codemirror_mode": {
    "name": "ipython",
    "version": 3
   },
   "file_extension": ".py",
   "mimetype": "text/x-python",
   "name": "python",
   "nbconvert_exporter": "python",
   "pygments_lexer": "ipython3",
   "version": "3.12.4"
  }
 },
 "nbformat": 4,
 "nbformat_minor": 5
}
