{
  "nbformat": 4,
  "nbformat_minor": 0,
  "metadata": {
    "colab": {
      "provenance": []
    },
    "kernelspec": {
      "name": "python3",
      "display_name": "Python 3"
    },
    "language_info": {
      "name": "python"
    }
  },
  "cells": [
    {
      "cell_type": "code",
      "execution_count": 1,
      "metadata": {
        "colab": {
          "base_uri": "https://localhost:8080/",
          "height": 329
        },
        "id": "pcV0De_Lq0hl",
        "outputId": "42e172b3-5ac8-4bb8-9ad7-d803c78a7944"
      },
      "outputs": [
        {
          "output_type": "stream",
          "name": "stdout",
          "text": [
            "Requirement already satisfied: kaggle in /usr/local/lib/python3.10/dist-packages (1.6.17)\n",
            "Requirement already satisfied: six>=1.10 in /usr/local/lib/python3.10/dist-packages (from kaggle) (1.16.0)\n",
            "Requirement already satisfied: certifi>=2023.7.22 in /usr/local/lib/python3.10/dist-packages (from kaggle) (2024.8.30)\n",
            "Requirement already satisfied: python-dateutil in /usr/local/lib/python3.10/dist-packages (from kaggle) (2.8.2)\n",
            "Requirement already satisfied: requests in /usr/local/lib/python3.10/dist-packages (from kaggle) (2.32.3)\n",
            "Requirement already satisfied: tqdm in /usr/local/lib/python3.10/dist-packages (from kaggle) (4.66.6)\n",
            "Requirement already satisfied: python-slugify in /usr/local/lib/python3.10/dist-packages (from kaggle) (8.0.4)\n",
            "Requirement already satisfied: urllib3 in /usr/local/lib/python3.10/dist-packages (from kaggle) (2.2.3)\n",
            "Requirement already satisfied: bleach in /usr/local/lib/python3.10/dist-packages (from kaggle) (6.2.0)\n",
            "Requirement already satisfied: webencodings in /usr/local/lib/python3.10/dist-packages (from bleach->kaggle) (0.5.1)\n",
            "Requirement already satisfied: text-unidecode>=1.3 in /usr/local/lib/python3.10/dist-packages (from python-slugify->kaggle) (1.3)\n",
            "Requirement already satisfied: charset-normalizer<4,>=2 in /usr/local/lib/python3.10/dist-packages (from requests->kaggle) (3.4.0)\n",
            "Requirement already satisfied: idna<4,>=2.5 in /usr/local/lib/python3.10/dist-packages (from requests->kaggle) (3.10)\n"
          ]
        },
        {
          "output_type": "display_data",
          "data": {
            "text/plain": [
              "<IPython.core.display.HTML object>"
            ],
            "text/html": [
              "\n",
              "     <input type=\"file\" id=\"files-3d28e87a-c78d-4483-9983-4a4e61dab402\" name=\"files[]\" multiple disabled\n",
              "        style=\"border:none\" />\n",
              "     <output id=\"result-3d28e87a-c78d-4483-9983-4a4e61dab402\">\n",
              "      Upload widget is only available when the cell has been executed in the\n",
              "      current browser session. Please rerun this cell to enable.\n",
              "      </output>\n",
              "      <script>// Copyright 2017 Google LLC\n",
              "//\n",
              "// Licensed under the Apache License, Version 2.0 (the \"License\");\n",
              "// you may not use this file except in compliance with the License.\n",
              "// You may obtain a copy of the License at\n",
              "//\n",
              "//      http://www.apache.org/licenses/LICENSE-2.0\n",
              "//\n",
              "// Unless required by applicable law or agreed to in writing, software\n",
              "// distributed under the License is distributed on an \"AS IS\" BASIS,\n",
              "// WITHOUT WARRANTIES OR CONDITIONS OF ANY KIND, either express or implied.\n",
              "// See the License for the specific language governing permissions and\n",
              "// limitations under the License.\n",
              "\n",
              "/**\n",
              " * @fileoverview Helpers for google.colab Python module.\n",
              " */\n",
              "(function(scope) {\n",
              "function span(text, styleAttributes = {}) {\n",
              "  const element = document.createElement('span');\n",
              "  element.textContent = text;\n",
              "  for (const key of Object.keys(styleAttributes)) {\n",
              "    element.style[key] = styleAttributes[key];\n",
              "  }\n",
              "  return element;\n",
              "}\n",
              "\n",
              "// Max number of bytes which will be uploaded at a time.\n",
              "const MAX_PAYLOAD_SIZE = 100 * 1024;\n",
              "\n",
              "function _uploadFiles(inputId, outputId) {\n",
              "  const steps = uploadFilesStep(inputId, outputId);\n",
              "  const outputElement = document.getElementById(outputId);\n",
              "  // Cache steps on the outputElement to make it available for the next call\n",
              "  // to uploadFilesContinue from Python.\n",
              "  outputElement.steps = steps;\n",
              "\n",
              "  return _uploadFilesContinue(outputId);\n",
              "}\n",
              "\n",
              "// This is roughly an async generator (not supported in the browser yet),\n",
              "// where there are multiple asynchronous steps and the Python side is going\n",
              "// to poll for completion of each step.\n",
              "// This uses a Promise to block the python side on completion of each step,\n",
              "// then passes the result of the previous step as the input to the next step.\n",
              "function _uploadFilesContinue(outputId) {\n",
              "  const outputElement = document.getElementById(outputId);\n",
              "  const steps = outputElement.steps;\n",
              "\n",
              "  const next = steps.next(outputElement.lastPromiseValue);\n",
              "  return Promise.resolve(next.value.promise).then((value) => {\n",
              "    // Cache the last promise value to make it available to the next\n",
              "    // step of the generator.\n",
              "    outputElement.lastPromiseValue = value;\n",
              "    return next.value.response;\n",
              "  });\n",
              "}\n",
              "\n",
              "/**\n",
              " * Generator function which is called between each async step of the upload\n",
              " * process.\n",
              " * @param {string} inputId Element ID of the input file picker element.\n",
              " * @param {string} outputId Element ID of the output display.\n",
              " * @return {!Iterable<!Object>} Iterable of next steps.\n",
              " */\n",
              "function* uploadFilesStep(inputId, outputId) {\n",
              "  const inputElement = document.getElementById(inputId);\n",
              "  inputElement.disabled = false;\n",
              "\n",
              "  const outputElement = document.getElementById(outputId);\n",
              "  outputElement.innerHTML = '';\n",
              "\n",
              "  const pickedPromise = new Promise((resolve) => {\n",
              "    inputElement.addEventListener('change', (e) => {\n",
              "      resolve(e.target.files);\n",
              "    });\n",
              "  });\n",
              "\n",
              "  const cancel = document.createElement('button');\n",
              "  inputElement.parentElement.appendChild(cancel);\n",
              "  cancel.textContent = 'Cancel upload';\n",
              "  const cancelPromise = new Promise((resolve) => {\n",
              "    cancel.onclick = () => {\n",
              "      resolve(null);\n",
              "    };\n",
              "  });\n",
              "\n",
              "  // Wait for the user to pick the files.\n",
              "  const files = yield {\n",
              "    promise: Promise.race([pickedPromise, cancelPromise]),\n",
              "    response: {\n",
              "      action: 'starting',\n",
              "    }\n",
              "  };\n",
              "\n",
              "  cancel.remove();\n",
              "\n",
              "  // Disable the input element since further picks are not allowed.\n",
              "  inputElement.disabled = true;\n",
              "\n",
              "  if (!files) {\n",
              "    return {\n",
              "      response: {\n",
              "        action: 'complete',\n",
              "      }\n",
              "    };\n",
              "  }\n",
              "\n",
              "  for (const file of files) {\n",
              "    const li = document.createElement('li');\n",
              "    li.append(span(file.name, {fontWeight: 'bold'}));\n",
              "    li.append(span(\n",
              "        `(${file.type || 'n/a'}) - ${file.size} bytes, ` +\n",
              "        `last modified: ${\n",
              "            file.lastModifiedDate ? file.lastModifiedDate.toLocaleDateString() :\n",
              "                                    'n/a'} - `));\n",
              "    const percent = span('0% done');\n",
              "    li.appendChild(percent);\n",
              "\n",
              "    outputElement.appendChild(li);\n",
              "\n",
              "    const fileDataPromise = new Promise((resolve) => {\n",
              "      const reader = new FileReader();\n",
              "      reader.onload = (e) => {\n",
              "        resolve(e.target.result);\n",
              "      };\n",
              "      reader.readAsArrayBuffer(file);\n",
              "    });\n",
              "    // Wait for the data to be ready.\n",
              "    let fileData = yield {\n",
              "      promise: fileDataPromise,\n",
              "      response: {\n",
              "        action: 'continue',\n",
              "      }\n",
              "    };\n",
              "\n",
              "    // Use a chunked sending to avoid message size limits. See b/62115660.\n",
              "    let position = 0;\n",
              "    do {\n",
              "      const length = Math.min(fileData.byteLength - position, MAX_PAYLOAD_SIZE);\n",
              "      const chunk = new Uint8Array(fileData, position, length);\n",
              "      position += length;\n",
              "\n",
              "      const base64 = btoa(String.fromCharCode.apply(null, chunk));\n",
              "      yield {\n",
              "        response: {\n",
              "          action: 'append',\n",
              "          file: file.name,\n",
              "          data: base64,\n",
              "        },\n",
              "      };\n",
              "\n",
              "      let percentDone = fileData.byteLength === 0 ?\n",
              "          100 :\n",
              "          Math.round((position / fileData.byteLength) * 100);\n",
              "      percent.textContent = `${percentDone}% done`;\n",
              "\n",
              "    } while (position < fileData.byteLength);\n",
              "  }\n",
              "\n",
              "  // All done.\n",
              "  yield {\n",
              "    response: {\n",
              "      action: 'complete',\n",
              "    }\n",
              "  };\n",
              "}\n",
              "\n",
              "scope.google = scope.google || {};\n",
              "scope.google.colab = scope.google.colab || {};\n",
              "scope.google.colab._files = {\n",
              "  _uploadFiles,\n",
              "  _uploadFilesContinue,\n",
              "};\n",
              "})(self);\n",
              "</script> "
            ]
          },
          "metadata": {}
        },
        {
          "output_type": "stream",
          "name": "stdout",
          "text": [
            "Saving kaggle.json to kaggle.json\n"
          ]
        },
        {
          "output_type": "execute_result",
          "data": {
            "text/plain": [
              "{'kaggle.json': b'{\"username\":\"james4510\",\"key\":\"ecadc1536334386aec3711313d02eba7\"}'}"
            ]
          },
          "metadata": {},
          "execution_count": 1
        }
      ],
      "source": [
        "!pip install kaggle\n",
        "from google.colab import files\n",
        "files.upload()"
      ]
    },
    {
      "cell_type": "code",
      "source": [
        "!mkdir -p ~/.kaggle # kaggle이라는 숨겨진 폴더 생성\n",
        "!cp kaggle.json ~/.kaggle/ # 폴더 안에 아까 다운 받은 json 파일 복사\n",
        "!chmod 600 ~/.kaggle/kaggle.json # json 파일 권한 변경"
      ],
      "metadata": {
        "id": "bSgbyfrRq4Ho"
      },
      "execution_count": 2,
      "outputs": []
    },
    {
      "cell_type": "code",
      "source": [
        "#!/bin/bash\n",
        "!kaggle datasets download zygmunt/goodbooks-10k\n",
        "!kaggle datasets download arashnic/book-recommendation-dataset"
      ],
      "metadata": {
        "colab": {
          "base_uri": "https://localhost:8080/"
        },
        "id": "PSeItbXfq5lI",
        "outputId": "adfbf8ce-1032-4251-b82a-cc22515f8987"
      },
      "execution_count": 3,
      "outputs": [
        {
          "output_type": "stream",
          "name": "stdout",
          "text": [
            "Dataset URL: https://www.kaggle.com/datasets/zygmunt/goodbooks-10k\n",
            "License(s): CC-BY-SA-4.0\n",
            "Downloading goodbooks-10k.zip to /content\n",
            " 43% 5.00M/11.6M [00:00<00:00, 30.2MB/s]\n",
            "100% 11.6M/11.6M [00:00<00:00, 49.5MB/s]\n",
            "Dataset URL: https://www.kaggle.com/datasets/arashnic/book-recommendation-dataset\n",
            "License(s): CC0-1.0\n",
            "Downloading book-recommendation-dataset.zip to /content\n",
            " 90% 22.0M/24.3M [00:01<00:00, 22.5MB/s]\n",
            "100% 24.3M/24.3M [00:01<00:00, 24.4MB/s]\n"
          ]
        }
      ]
    },
    {
      "cell_type": "code",
      "source": [
        "from zipfile import ZipFile\n",
        "file_name = \"/content/goodbooks-10k.zip\"\n",
        "\n",
        "with ZipFile(file_name, 'r') as zip:\n",
        "  zip.extractall()\n",
        "  print('done')"
      ],
      "metadata": {
        "colab": {
          "base_uri": "https://localhost:8080/"
        },
        "id": "JBZLaSx-q7EU",
        "outputId": "36e683e9-f12b-472a-b56c-52d9c9d87935"
      },
      "execution_count": 4,
      "outputs": [
        {
          "output_type": "stream",
          "name": "stdout",
          "text": [
            "done\n"
          ]
        }
      ]
    },
    {
      "cell_type": "code",
      "source": [
        "from zipfile import ZipFile\n",
        "file_name = \"/content/book-recommendation-dataset.zip\"\n",
        "\n",
        "with ZipFile(file_name, 'r') as zip:\n",
        "  zip.extractall()\n",
        "  print('done')"
      ],
      "metadata": {
        "colab": {
          "base_uri": "https://localhost:8080/"
        },
        "id": "WXpvCBQrq8Ow",
        "outputId": "0e1529f1-503b-4074-86d3-f62514da53ec"
      },
      "execution_count": 5,
      "outputs": [
        {
          "output_type": "stream",
          "name": "stdout",
          "text": [
            "done\n"
          ]
        }
      ]
    },
    {
      "cell_type": "code",
      "source": [
        "import pandas as pd\n",
        "\n",
        "# 데이터 읽기 - Goodbooks-10k dataset\n",
        "gb_books = pd.read_csv(\"/content/books.csv\")\n",
        "gb_book_tags = pd.read_csv(\"/content/book_tags.csv\")\n",
        "gb_ratings = pd.read_csv(\"/content/ratings.csv\")\n",
        "gb_tags = pd.read_csv(\"/content/tags.csv\")\n",
        "gb_to_read = pd.read_csv(\"/content/to_read.csv\")\n",
        "\n",
        "# Book Recommendation dataset\n",
        "br_books = pd.read_csv(\"/content/Books.csv\")\n",
        "br_ratings = pd.read_csv(\"/content/Ratings.csv\")\n",
        "br_users = pd.read_csv(\"/content/Users.csv\")"
      ],
      "metadata": {
        "colab": {
          "base_uri": "https://localhost:8080/"
        },
        "id": "-e5X4MSaq93g",
        "outputId": "abaeead5-bfa6-4ac2-cf21-7063dc80743e"
      },
      "execution_count": 6,
      "outputs": [
        {
          "output_type": "stream",
          "name": "stderr",
          "text": [
            "<ipython-input-6-6e51e6ca2144>:11: DtypeWarning: Columns (3) have mixed types. Specify dtype option on import or set low_memory=False.\n",
            "  br_books = pd.read_csv(\"/content/Books.csv\")\n"
          ]
        }
      ]
    },
    {
      "cell_type": "code",
      "source": [
        "# Goodbooks-10k dataset preprocessing\n",
        "# 필요한 열만 남기기\n",
        "# books 데이터셋에서 제목, 저자, 출판연도, ISBN 정보만 유지\n",
        "gb_books = gb_books[['book_id', 'isbn', 'authors', 'original_publication_year', 'original_title']]\n",
        "gb_ratings = gb_ratings[['user_id', 'book_id', 'rating']]\n",
        "\n",
        "# books와 ratings 데이터셋을 book_id를 기준으로 결합\n",
        "gb_merged_data = gb_ratings.merge(gb_books, on='book_id', how='inner')\n",
        "\n",
        "# 결측치 처리\n",
        "gb_merged_data['original_title'].fillna('Unknown Title', inplace=True)"
      ],
      "metadata": {
        "colab": {
          "base_uri": "https://localhost:8080/"
        },
        "id": "0BJ0Jvy2q_Il",
        "outputId": "7c047963-0537-44b1-9943-da54fbd24b6e"
      },
      "execution_count": 7,
      "outputs": [
        {
          "output_type": "stream",
          "name": "stderr",
          "text": [
            "<ipython-input-7-8b81dec6aab7>:11: FutureWarning: A value is trying to be set on a copy of a DataFrame or Series through chained assignment using an inplace method.\n",
            "The behavior will change in pandas 3.0. This inplace method will never work because the intermediate object on which we are setting values always behaves as a copy.\n",
            "\n",
            "For example, when doing 'df[col].method(value, inplace=True)', try using 'df.method({col: value}, inplace=True)' or df[col] = df[col].method(value) instead, to perform the operation inplace on the original object.\n",
            "\n",
            "\n",
            "  gb_merged_data['original_title'].fillna('Unknown Title', inplace=True)\n"
          ]
        }
      ]
    },
    {
      "cell_type": "code",
      "source": [
        "# Book Recommendation dataset preprocessing\n",
        "# 결측치 처리 및 기본 정리\n",
        "columns_to_drop = ['Image-URL-S', 'Image-URL-M', 'Image-URL-L']\n",
        "br_books.drop(columns=columns_to_drop, inplace=True)\n",
        "\n",
        "# Remove missing values and convert all text data to lowercase for each dataset\n",
        "br_books = br_books.dropna().applymap(lambda x: x.lower() if isinstance(x, str) else x)\n",
        "br_ratings = br_ratings.dropna().applymap(lambda x: x.lower() if isinstance(x, str) else x)\n",
        "br_users = br_users.dropna().applymap(lambda x: x.lower() if isinstance(x, str) else x)\n",
        "\n",
        "# Merging the Ratings and Books datasets on the common ISBN column\n",
        "br_merged_df = pd.merge(br_ratings, br_books, on='ISBN')\n",
        "\n",
        "# Merging the result with the Users dataset on the common User-ID column\n",
        "br_merged_df = pd.merge(br_merged_df, br_users, on='User-ID')\n",
        "\n",
        "# Removing any outlier\n",
        "br_delete_outliers = br_merged_df[br_merged_df['Book-Rating'] != 0]"
      ],
      "metadata": {
        "colab": {
          "base_uri": "https://localhost:8080/"
        },
        "id": "4wvYw4GErBr7",
        "outputId": "ae392ab8-bbfc-48c7-e732-92743386cb00"
      },
      "execution_count": 8,
      "outputs": [
        {
          "output_type": "stream",
          "name": "stderr",
          "text": [
            "<ipython-input-8-bc6a56b7d6c0>:7: FutureWarning: DataFrame.applymap has been deprecated. Use DataFrame.map instead.\n",
            "  br_books = br_books.dropna().applymap(lambda x: x.lower() if isinstance(x, str) else x)\n",
            "<ipython-input-8-bc6a56b7d6c0>:8: FutureWarning: DataFrame.applymap has been deprecated. Use DataFrame.map instead.\n",
            "  br_ratings = br_ratings.dropna().applymap(lambda x: x.lower() if isinstance(x, str) else x)\n",
            "<ipython-input-8-bc6a56b7d6c0>:9: FutureWarning: DataFrame.applymap has been deprecated. Use DataFrame.map instead.\n",
            "  br_users = br_users.dropna().applymap(lambda x: x.lower() if isinstance(x, str) else x)\n"
          ]
        }
      ]
    },
    {
      "cell_type": "code",
      "source": [
        "br_delete_outliers.info(), gb_merged_data.info()"
      ],
      "metadata": {
        "colab": {
          "base_uri": "https://localhost:8080/"
        },
        "id": "MFealxDusOf0",
        "outputId": "aa155f4c-74d6-497c-f5a0-9786ddf44e9e"
      },
      "execution_count": 9,
      "outputs": [
        {
          "output_type": "stream",
          "name": "stdout",
          "text": [
            "<class 'pandas.core.frame.DataFrame'>\n",
            "Index: 273291 entries, 1 to 762993\n",
            "Data columns (total 9 columns):\n",
            " #   Column               Non-Null Count   Dtype  \n",
            "---  ------               --------------   -----  \n",
            " 0   User-ID              273291 non-null  int64  \n",
            " 1   ISBN                 273291 non-null  object \n",
            " 2   Book-Rating          273291 non-null  int64  \n",
            " 3   Book-Title           273291 non-null  object \n",
            " 4   Book-Author          273291 non-null  object \n",
            " 5   Year-Of-Publication  273291 non-null  object \n",
            " 6   Publisher            273291 non-null  object \n",
            " 7   Location             273291 non-null  object \n",
            " 8   Age                  273291 non-null  float64\n",
            "dtypes: float64(1), int64(2), object(6)\n",
            "memory usage: 20.9+ MB\n",
            "<class 'pandas.core.frame.DataFrame'>\n",
            "RangeIndex: 79701 entries, 0 to 79700\n",
            "Data columns (total 7 columns):\n",
            " #   Column                     Non-Null Count  Dtype  \n",
            "---  ------                     --------------  -----  \n",
            " 0   user_id                    79701 non-null  int64  \n",
            " 1   book_id                    79701 non-null  int64  \n",
            " 2   rating                     79701 non-null  int64  \n",
            " 3   isbn                       78822 non-null  object \n",
            " 4   authors                    79701 non-null  object \n",
            " 5   original_publication_year  79601 non-null  float64\n",
            " 6   original_title             79701 non-null  object \n",
            "dtypes: float64(1), int64(3), object(3)\n",
            "memory usage: 4.3+ MB\n"
          ]
        },
        {
          "output_type": "execute_result",
          "data": {
            "text/plain": [
              "(None, None)"
            ]
          },
          "metadata": {},
          "execution_count": 9
        }
      ]
    },
    {
      "cell_type": "code",
      "source": [
        "# For the `goodbooks_10k.csv` dataset, let's filter based on ratings\n",
        "# Count the number of ratings for each book and filter out books with fewer than 10 ratings\n",
        "gb_goodbooks_filtered = gb_merged_data.groupby('book_id').filter(lambda x: len(x) >= 10)\n",
        "\n",
        "# Then, filter out books rated by fewer than 5 unique users\n",
        "gb_goodbooks_filtered = gb_goodbooks_filtered.groupby('book_id').filter(lambda x: x['user_id'].nunique() >= 5)"
      ],
      "metadata": {
        "id": "K0gEp1JPs7vv"
      },
      "execution_count": 10,
      "outputs": []
    },
    {
      "cell_type": "code",
      "source": [
        "# For the `book_recommendation.csv` dataset\n",
        "# Count the number of ratings for each book and filter out books with fewer than 10 ratings\n",
        "br_recommendation_filtered = br_delete_outliers.groupby('ISBN').filter(lambda x: len(x) >= 10)\n",
        "\n",
        "# Then, filter out books rated by fewer than 5 unique users\n",
        "br_recommendation_filtered = br_recommendation_filtered.groupby('ISBN').filter(lambda x: x['User-ID'].nunique() >= 5)"
      ],
      "metadata": {
        "id": "HN36LzlrtJAO"
      },
      "execution_count": 11,
      "outputs": []
    },
    {
      "cell_type": "code",
      "source": [
        "# Standardize the 'user_id' and 'ISBN' columns across both dataframes\n",
        "\n",
        "# Rename columns to ensure consistency in naming\n",
        "gb_goodbooks_df = gb_goodbooks_filtered.rename(columns={'user_id': 'User_ID', 'isbn': 'ISBN', 'rating': 'Rating'})\n",
        "br_recommendation_df = br_recommendation_filtered.rename(columns={'User-ID': 'User_ID', 'Book-Rating': 'Rating'})"
      ],
      "metadata": {
        "id": "zCUncNoztVc_"
      },
      "execution_count": 12,
      "outputs": []
    },
    {
      "cell_type": "code",
      "source": [
        "# Normalize ISBN and User_ID to string format for consistency\n",
        "gb_goodbooks_df['ISBN'] = gb_goodbooks_df['ISBN'].astype(str)\n",
        "gb_goodbooks_df['User_ID'] = gb_goodbooks_df['User_ID'].astype(str)\n",
        "br_recommendation_df['ISBN'] = br_recommendation_df['ISBN'].astype(str)\n",
        "br_recommendation_df['User_ID'] = br_recommendation_df['User_ID'].astype(str)"
      ],
      "metadata": {
        "id": "1lCDPz7Ste5B"
      },
      "execution_count": 13,
      "outputs": []
    },
    {
      "cell_type": "code",
      "source": [
        "goodbooks_isbn_map = gb_goodbooks_df.groupby('original_title')['ISBN'].first().to_dict()\n",
        "recommendation_isbn_map = br_recommendation_df.groupby('Book-Title')['ISBN'].first().to_dict()"
      ],
      "metadata": {
        "id": "AjDGRFGztkku"
      },
      "execution_count": 14,
      "outputs": []
    },
    {
      "cell_type": "code",
      "source": [
        "# Function to get the ISBN for the same title across datasets\n",
        "def get_unified_isbn(title, isbn_map):\n",
        "    return isbn_map.get(title, None)\n",
        "\n",
        "# Update ISBN in goodbooks dataset using its original title\n",
        "gb_goodbooks_df['ISBN'] = gb_goodbooks_df['original_title'].apply(\n",
        "    lambda title: get_unified_isbn(title, goodbooks_isbn_map)\n",
        ")\n",
        "\n",
        "# Update ISBN in recommendation dataset using its book title\n",
        "br_recommendation_df['ISBN'] = br_recommendation_df['Book-Title'].apply(\n",
        "    lambda title: get_unified_isbn(title, recommendation_isbn_map)\n",
        ")"
      ],
      "metadata": {
        "id": "9jTb7jCrtt7B"
      },
      "execution_count": 15,
      "outputs": []
    },
    {
      "cell_type": "code",
      "source": [
        "# Adjust ISBN to 10 characters with leading zeros if necessary\n",
        "gb_goodbooks_df['ISBN'] = gb_goodbooks_df['ISBN'].astype(str).str.zfill(10)\n",
        "br_recommendation_df['ISBN'] = br_recommendation_df['ISBN'].astype(str).str.zfill(10)"
      ],
      "metadata": {
        "id": "1xksSl2It0wM"
      },
      "execution_count": 16,
      "outputs": []
    },
    {
      "cell_type": "code",
      "source": [
        "# 하나의 책에 대해서만 평점을 매긴 유저 제거\n",
        "# Filter users who have rated only one book in each dataset\n",
        "\n",
        "# In goodbooks dataset\n",
        "goodbooks_filtered = gb_goodbooks_df.groupby('User_ID').filter(lambda x: len(x) > 1)\n",
        "\n",
        "# In recommendation dataset\n",
        "recommendation_filtered = br_recommendation_df.groupby('User_ID').filter(lambda x: len(x) > 1)"
      ],
      "metadata": {
        "id": "He6a9J1NuAn1"
      },
      "execution_count": 17,
      "outputs": []
    },
    {
      "cell_type": "code",
      "source": [
        "# 두 개의 데이터셋에서 공통의 책을 제외한 나머지 책 제거\n",
        "# Find common books between the two datasets based on the 'ISBN' column\n",
        "common_books_isbn = set(goodbooks_filtered['ISBN']).intersection(set(recommendation_filtered['ISBN']))\n",
        "\n",
        "# Filter out common books in both datasets\n",
        "goodbooks_filtered = goodbooks_filtered[~goodbooks_filtered['ISBN'].isin(common_books_isbn)]\n",
        "recommendation_filtered = recommendation_filtered[~recommendation_filtered['ISBN'].isin(common_books_isbn)]\n",
        "\n",
        "# Save the filtered datasets to new CSV files\n",
        "goodbooks_filtered.to_csv('/content/goodbooks_exclusive.csv', index=False, encoding=\"utf-8-sig\")\n",
        "recommendation_filtered.to_csv('/content/recommendation_exclusive.csv', index=False, encoding=\"utf-8-sig\")"
      ],
      "metadata": {
        "id": "NegPG5T0uY-z"
      },
      "execution_count": 18,
      "outputs": []
    }
  ]
}